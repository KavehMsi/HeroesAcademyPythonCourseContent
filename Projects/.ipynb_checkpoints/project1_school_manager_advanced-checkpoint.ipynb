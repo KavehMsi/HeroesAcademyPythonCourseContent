{
 "cells": [
  {
   "cell_type": "markdown",
   "metadata": {},
   "source": [
    "Milestone Project 1"
   ]
  },
  {
   "cell_type": "markdown",
   "metadata": {},
   "source": [
    "In this project, we are gonna write a simple program to review what we 've leared about python so far. Let's get started!"
   ]
  },
  {
   "cell_type": "markdown",
   "metadata": {},
   "source": [
    "Tom is a school manager. He wants to do some calculation on his students' grades and he has asked you to help him."
   ]
  },
  {
   "cell_type": "markdown",
   "metadata": {},
   "source": [
    "When the program starts, a menu like the following menu is shown:\n",
    "\n",
    "    1-Enter Sudents' Data\n",
    "    2-Print All Students' Grades Average \n",
    "    3-Print the Best Student's Grade Average\n",
    "    4-Print the School's Grade Average\n",
    "    5-Exit"
   ]
  },
  {
   "cell_type": "markdown",
   "metadata": {},
   "source": [
    "1-Enter Students' Data:\n",
    "\n",
    "    -If this option is selected, the program should first get an integer n as input that denotes the number of students, and then in the next n lines, the program should get the name of student and 3 grades seperated by space, ex:"
   ]
  },
  {
   "cell_type": "raw",
   "metadata": {},
   "source": [
    "                2\n",
    "                Amir 15 16 17\n",
    "                James 19 14 18"
   ]
  },
  {
   "cell_type": "markdown",
   "metadata": {},
   "source": [
    "2-Print All Students' Grades Average:\n",
    "\n",
    "    -If this option is selected, the program should print all students' grades average, if there are no students, the message \"No Student Found\" should be printed."
   ]
  },
  {
   "cell_type": "raw",
   "metadata": {},
   "source": [
    "================================================\n",
    "Name: Amir\n",
    "Grade Average: 16\n",
    "================================================\n",
    "Name: James\n",
    "Grade: 17\n",
    "================================================"
   ]
  },
  {
   "cell_type": "markdown",
   "metadata": {},
   "source": [
    "3-Print the Best Student's Grade Average:\n",
    "\n",
    "    -When this option is selected, only the best Student's average should be printed."
   ]
  },
  {
   "cell_type": "markdown",
   "metadata": {},
   "source": [
    "4-Print the School's Grade Average:\n",
    "\n",
    "    -When this option is selected, average of all student's averages should be printed."
   ]
  },
  {
   "cell_type": "markdown",
   "metadata": {},
   "source": [
    "5-Exit:\n",
    "    \n",
    "    -If this option is selected, the program should terminate."
   ]
  }
 ],
 "metadata": {
  "kernelspec": {
   "display_name": "Python 3",
   "language": "python",
   "name": "python3"
  },
  "language_info": {
   "codemirror_mode": {
    "name": "ipython",
    "version": 3
   },
   "file_extension": ".py",
   "mimetype": "text/x-python",
   "name": "python",
   "nbconvert_exporter": "python",
   "pygments_lexer": "ipython3",
   "version": "3.8.3"
  }
 },
 "nbformat": 4,
 "nbformat_minor": 4
}
