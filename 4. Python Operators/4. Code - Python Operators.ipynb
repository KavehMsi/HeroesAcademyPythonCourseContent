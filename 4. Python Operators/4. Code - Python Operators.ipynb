{
 "cells": [
  {
   "cell_type": "code",
   "execution_count": 4,
   "metadata": {},
   "outputs": [],
   "source": [
    "# -------------------- Arithmetic Operators ----------------\n",
    "a = 4\n",
    "b = 3\n",
    "\n",
    "g = a\n",
    "g += a"
   ]
  },
  {
   "cell_type": "code",
   "execution_count": 6,
   "metadata": {},
   "outputs": [
    {
     "name": "stdout",
     "output_type": "stream",
     "text": [
      "16\n",
      "1.3333333333333333\n",
      "1\n",
      "64\n",
      "8\n"
     ]
    }
   ],
   "source": [
    "print(a * b + a)\n",
    "print(a / b)\n",
    "print(a // b)\n",
    "print(a ** b)\n",
    "print(g)"
   ]
  },
  {
   "cell_type": "code",
   "execution_count": 13,
   "metadata": {},
   "outputs": [
    {
     "name": "stdout",
     "output_type": "stream",
     "text": [
      "True\n",
      "True\n"
     ]
    }
   ],
   "source": [
    "#-------------------- Comparison Operators ----------------\n",
    "# => the result is always in Boolean\n",
    "\n",
    "print(a != b)\n",
    "print(a >= b)\n"
   ]
  },
  {
   "cell_type": "code",
   "execution_count": 22,
   "metadata": {},
   "outputs": [
    {
     "name": "stdout",
     "output_type": "stream",
     "text": [
      "False\n"
     ]
    }
   ],
   "source": [
    "# Be Careful!\n",
    "#It's wrong to use this form. -->  print(! (a >= b))\n",
    "print(not (a >= b))"
   ]
  },
  {
   "cell_type": "code",
   "execution_count": 20,
   "metadata": {},
   "outputs": [
    {
     "name": "stdout",
     "output_type": "stream",
     "text": [
      "True\n"
     ]
    }
   ],
   "source": [
    "#-------------------- Logical Operators ---------------------\n",
    "a = 7 \n",
    "b = 4 \n",
    "print((a > b and a - 2 < b) or (a > b))"
   ]
  },
  {
   "cell_type": "code",
   "execution_count": 32,
   "metadata": {},
   "outputs": [
    {
     "name": "stdout",
     "output_type": "stream",
     "text": [
      "15\n",
      "1\n",
      "False\n",
      "True\n",
      "44\n",
      "2\n"
     ]
    }
   ],
   "source": [
    "#-------------------- Bit-Wise Operators ---------------------\n",
    "a = 11   # a = 01011\n",
    "b = 5   #  b = 00101\n",
    "\n",
    "print(a | b)  #01111 --> 15\n",
    "print(a & b)  #00001 --> 1\n",
    "print(not(a))     # not (all none-zero number) = False\n",
    "print(not(0))\n",
    "print(a << 2) # n shift to left --> * 2^n\n",
    "print(a >> 2)"
   ]
  },
  {
   "cell_type": "code",
   "execution_count": 40,
   "metadata": {},
   "outputs": [
    {
     "name": "stdout",
     "output_type": "stream",
     "text": [
      "True\n",
      "False\n",
      "False\n",
      "-----------\n",
      "True\n",
      "False\n",
      "True\n"
     ]
    }
   ],
   "source": [
    "#-------------------- Membership Operators ---------------------\n",
    "name = \"Kaveh\"\n",
    "my_list = [name , 123 , 1 , 1 , 2 ,3]\n",
    "my_set = set(my_list)\n",
    "my_tuple = (name , 625 , 25 , 5)\n",
    "my_dictionary = {\"my_name\" : \"Kaveh\"}\n",
    "print('K' in name)\n",
    "print(1234 in my_list)\n",
    "print(name not in my_list)\n",
    "\n",
    "\n",
    "print(\"-----------\")\n",
    "\n",
    "\n",
    "print(1 in my_set)\n",
    "print(5 ** 3 in my_tuple)\n",
    "print(name in my_dictionary.values())"
   ]
  },
  {
   "cell_type": "code",
   "execution_count": 41,
   "metadata": {},
   "outputs": [
    {
     "name": "stdout",
     "output_type": "stream",
     "text": [
      "False\n",
      "True\n",
      "False\n"
     ]
    }
   ],
   "source": [
    "#-------------------- Indentity Operators --------------------- \n",
    "# non-primitive data\n",
    "\n",
    "a = [1 , 2 , 3]\n",
    "b = [1 , 2 , 3]\n",
    "c = a\n",
    "d = a.copy()\n",
    "print(a is b)\n",
    "print(a is c)\n",
    "print(a is d)"
   ]
  },
  {
   "cell_type": "code",
   "execution_count": 42,
   "metadata": {},
   "outputs": [],
   "source": [
    "a.append(4)"
   ]
  },
  {
   "cell_type": "code",
   "execution_count": 44,
   "metadata": {},
   "outputs": [
    {
     "name": "stdout",
     "output_type": "stream",
     "text": [
      "[1, 2, 3, 4]\n",
      "[1, 2, 3]\n",
      "[1, 2, 3, 4]\n"
     ]
    }
   ],
   "source": [
    "print(a)\n",
    "print(b)\n",
    "print(c)"
   ]
  },
  {
   "cell_type": "code",
   "execution_count": null,
   "metadata": {},
   "outputs": [],
   "source": []
  }
 ],
 "metadata": {
  "kernelspec": {
   "display_name": "Python 3",
   "language": "python",
   "name": "python3"
  },
  "language_info": {
   "codemirror_mode": {
    "name": "ipython",
    "version": 3
   },
   "file_extension": ".py",
   "mimetype": "text/x-python",
   "name": "python",
   "nbconvert_exporter": "python",
   "pygments_lexer": "ipython3",
   "version": "3.7.0"
  }
 },
 "nbformat": 4,
 "nbformat_minor": 2
}
