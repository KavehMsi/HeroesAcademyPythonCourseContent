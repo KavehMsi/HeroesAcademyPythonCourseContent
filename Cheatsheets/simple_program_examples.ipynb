{
 "cells": [
  {
   "cell_type": "markdown",
   "metadata": {},
   "source": [
    "Let's try writing some simple programs:"
   ]
  },
  {
   "cell_type": "markdown",
   "metadata": {},
   "source": [
    "Write a program to calculate the area of a triangle:"
   ]
  },
  {
   "cell_type": "code",
   "execution_count": null,
   "metadata": {},
   "outputs": [],
   "source": [
    "a = 5\n",
    "b = 7\n",
    "c = 8\n",
    "area = a+b+c\n",
    "print(\"Area of the triangle is:\", area)"
   ]
  },
  {
   "cell_type": "markdown",
   "metadata": {},
   "source": [
    "Write a program to convert Kilometers to Miles:"
   ]
  },
  {
   "cell_type": "code",
   "execution_count": null,
   "metadata": {},
   "outputs": [],
   "source": [
    "print(\"Enter distance in km: \")\n",
    "km = float(input())\n",
    "conv_fac = 0.621371\n",
    "miles = km * conv_fac\n",
    "print(\"The distance is:\", miles, \"miles.\")"
   ]
  },
  {
   "cell_type": "markdown",
   "metadata": {},
   "source": [
    "Write a program to calculate the sum of numbers from 1 to n:"
   ]
  },
  {
   "cell_type": "code",
   "execution_count": null,
   "metadata": {},
   "outputs": [],
   "source": [
    "n = int(input())\n",
    "number_sum = 0\n",
    "for i in range(1,n+1):\n",
    "    number_sum = number_sum + i\n",
    "print(\"Sum of numbers from 1 to n is:\", number_sum)"
   ]
  },
  {
   "cell_type": "markdown",
   "metadata": {},
   "source": [
    "Can you change the code above to calculate the sum of numbers from m to n?"
   ]
  },
  {
   "cell_type": "code",
   "execution_count": null,
   "metadata": {},
   "outputs": [],
   "source": [
    "m = int(input())\n",
    "n = int(input())\n",
    "number_sum = 0\n",
    "for i in range(m,n+1):\n",
    "    number_sum = number_sum + i\n",
    "print(\"Sum of numbers from m to n is:\", number_sum)"
   ]
  },
  {
   "cell_type": "markdown",
   "metadata": {},
   "source": [
    "Write a program to count the number of times a sub_string has been repeated in a string:"
   ]
  },
  {
   "cell_type": "code",
   "execution_count": null,
   "metadata": {},
   "outputs": [],
   "source": [
    "sub_str = \"a\"\n",
    "main_str = \"London bridge is falling down, falling down, my fair lady.\"\n",
    "counter = 0\n",
    "for char in main_str:\n",
    "    if char == sub_str:\n",
    "        counter += 1\n",
    "print(\"sub str\", sub_str, \"has been repeated \", counter, \"times.\")"
   ]
  },
  {
   "cell_type": "code",
   "execution_count": null,
   "metadata": {},
   "outputs": [],
   "source": [
    "sub_str = \"falling\"\n",
    "main_str = \"London bridge is falling down, falling down, my fair lady.\"\n",
    "words = main_str.split()\n",
    "counter = 0\n",
    "for word in words:\n",
    "    if word == sub_str:\n",
    "        counter += 1\n",
    "print(\"sub str '\", sub_str, \"' has been repeated \", counter, \"times.\")"
   ]
  },
  {
   "cell_type": "markdown",
   "metadata": {},
   "source": [
    "Write a program to caculate the average of a list of numbers:"
   ]
  },
  {
   "cell_type": "code",
   "execution_count": null,
   "metadata": {},
   "outputs": [],
   "source": [
    "nums = [5,7,14,17,8,9,19,25]\n",
    "numbers_sum = 0\n",
    "for num in nums:\n",
    "    numbers_sum = numbers_sum +  num\n",
    "average = numbers_sum / len(nums)\n",
    "print(\"Number average is:\", average)"
   ]
  },
  {
   "cell_type": "code",
   "execution_count": null,
   "metadata": {},
   "outputs": [],
   "source": [
    "#better way to do the above:\n",
    "nums = [5,7,14,17,8,9,19,25]\n",
    "average = sum(nums)/len(nums)\n",
    "print(\"Number average is:\", average)"
   ]
  },
  {
   "cell_type": "markdown",
   "metadata": {},
   "source": [
    "Write a program to count the numbers in a list that are above the list's average:"
   ]
  },
  {
   "cell_type": "code",
   "execution_count": null,
   "metadata": {},
   "outputs": [],
   "source": [
    "nums = [5,7,14,17,8,9,19,25]\n",
    "average = sum(nums)/len(nums)\n",
    "print(average)\n",
    "counter = 0\n",
    "for num in nums:\n",
    "    if num>average:\n",
    "        counter += 1\n",
    "print(counter)"
   ]
  },
  {
   "cell_type": "code",
   "execution_count": null,
   "metadata": {},
   "outputs": [],
   "source": []
  },
  {
   "cell_type": "markdown",
   "metadata": {},
   "source": [
    "Python Program to Check Prime Number<br>\n",
    "Python Program to Print the Fibonacci sequence<br>\n",
    "Python Program to Check Whether a String is Palindrome or Not<br>\n",
    "Python Program to Count The number of occurances of each character in a string.<br>\n"
   ]
  },
  {
   "cell_type": "code",
   "execution_count": null,
   "metadata": {},
   "outputs": [],
   "source": [
    "n = 10000000000000111111\n",
    "flag = True\n",
    "\n",
    "for i in range(2, int((n**(1/2)))+1):\n",
    "    if n%i == 0:\n",
    "        flag = False\n",
    "        break\n",
    "        \n",
    "if flag == True:\n",
    "    print(n, \"is prime.\")\n",
    "else:\n",
    "    print(n, \"is not prime.\")        "
   ]
  },
  {
   "cell_type": "code",
   "execution_count": null,
   "metadata": {},
   "outputs": [],
   "source": []
  },
  {
   "cell_type": "code",
   "execution_count": null,
   "metadata": {},
   "outputs": [],
   "source": []
  },
  {
   "cell_type": "markdown",
   "metadata": {},
   "source": [
    "55 79 103"
   ]
  },
  {
   "cell_type": "code",
   "execution_count": null,
   "metadata": {},
   "outputs": [],
   "source": []
  },
  {
   "cell_type": "code",
   "execution_count": null,
   "metadata": {},
   "outputs": [],
   "source": [
    "input_str = input().split()\n",
    "print(input_str)\n",
    "input_numbers = []\n",
    "for num in input_str:\n",
    "    input_numbers.append(int(num))\n",
    "print(input_numbers)"
   ]
  },
  {
   "cell_type": "code",
   "execution_count": null,
   "metadata": {},
   "outputs": [],
   "source": [
    "input_numbers = list(map(int, input().split()))"
   ]
  },
  {
   "cell_type": "code",
   "execution_count": null,
   "metadata": {},
   "outputs": [],
   "source": [
    "print(input_numbers)"
   ]
  },
  {
   "cell_type": "code",
   "execution_count": null,
   "metadata": {},
   "outputs": [],
   "source": [
    "a,b = (2,3)"
   ]
  },
  {
   "cell_type": "code",
   "execution_count": null,
   "metadata": {},
   "outputs": [],
   "source": [
    "print(a)"
   ]
  },
  {
   "cell_type": "code",
   "execution_count": null,
   "metadata": {},
   "outputs": [],
   "source": [
    "print(b)"
   ]
  },
  {
   "cell_type": "markdown",
   "metadata": {},
   "source": [
    "45 67"
   ]
  },
  {
   "cell_type": "code",
   "execution_count": null,
   "metadata": {},
   "outputs": [],
   "source": [
    "n,k = map(int, input().split())"
   ]
  },
  {
   "cell_type": "code",
   "execution_count": null,
   "metadata": {},
   "outputs": [],
   "source": [
    "print(n)\n",
    "print(k)"
   ]
  },
  {
   "cell_type": "code",
   "execution_count": null,
   "metadata": {},
   "outputs": [],
   "source": [
    "def f(n):\n",
    "    if n<=1:\n",
    "        return 1\n",
    "    return n * f(n-1)"
   ]
  },
  {
   "cell_type": "markdown",
   "metadata": {},
   "source": [
    "1,1,2,3,5,8,13,21,..."
   ]
  },
  {
   "cell_type": "code",
   "execution_count": null,
   "metadata": {},
   "outputs": [],
   "source": [
    "def fib(n):\n",
    "    if n==1 or n==2:\n",
    "        return 1\n",
    "    else:\n",
    "        return fib(n-1) + fib(n-2)"
   ]
  },
  {
   "cell_type": "code",
   "execution_count": null,
   "metadata": {},
   "outputs": [],
   "source": []
  },
  {
   "cell_type": "code",
   "execution_count": null,
   "metadata": {},
   "outputs": [],
   "source": [
    "import time"
   ]
  },
  {
   "cell_type": "code",
   "execution_count": null,
   "metadata": {},
   "outputs": [],
   "source": [
    "tic = time.time()\n",
    "fib(50)\n",
    "tac = time.time()\n",
    "run_time = tac - tic\n",
    "print(run_time)"
   ]
  },
  {
   "cell_type": "code",
   "execution_count": null,
   "metadata": {},
   "outputs": [],
   "source": [
    "fibs = [-1] * 1000\n"
   ]
  },
  {
   "cell_type": "code",
   "execution_count": 3,
   "metadata": {},
   "outputs": [],
   "source": [
    "def fib(n):\n",
    "    first_number = 1\n",
    "    second_number = 1\n",
    "    third_number = -1\n",
    "    for i in range(n-2):\n",
    "        third_number = first_number + second_number\n",
    "        first_number = second_number\n",
    "        second_number = third_number\n",
    "    return third_number"
   ]
  },
  {
   "cell_type": "code",
   "execution_count": 8,
   "metadata": {},
   "outputs": [
    {
     "name": "stdout",
     "output_type": "stream",
     "text": [
      "43466557686937456435688527675040625802564660517371780402481729089536555417949051890403879840079255169295922593080322634775209689623239873322471161642996440906533187938298969649928516003704476137795166849228875\n"
     ]
    }
   ],
   "source": [
    "print(fib(1000))"
   ]
  },
  {
   "cell_type": "code",
   "execution_count": 9,
   "metadata": {},
   "outputs": [
    {
     "name": "stdout",
     "output_type": "stream",
     "text": [
      "5\n",
      "6\n"
     ]
    }
   ],
   "source": [
    "x = 5\n",
    "def f():\n",
    "    global x\n",
    "    x = x+1\n",
    "    return x\n",
    "print(x)\n",
    "print(f())"
   ]
  },
  {
   "cell_type": "code",
   "execution_count": null,
   "metadata": {},
   "outputs": [],
   "source": []
  }
 ],
 "metadata": {
  "kernelspec": {
   "display_name": "Python 3",
   "language": "python",
   "name": "python3"
  },
  "language_info": {
   "codemirror_mode": {
    "name": "ipython",
    "version": 3
   },
   "file_extension": ".py",
   "mimetype": "text/x-python",
   "name": "python",
   "nbconvert_exporter": "python",
   "pygments_lexer": "ipython3",
   "version": "3.8.3"
  }
 },
 "nbformat": 4,
 "nbformat_minor": 4
}
