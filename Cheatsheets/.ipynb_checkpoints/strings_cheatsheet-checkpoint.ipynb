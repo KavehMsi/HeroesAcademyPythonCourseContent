{
 "cells": [
  {
   "cell_type": "markdown",
   "metadata": {},
   "source": [
    "In the class we learnt the basics of strings, in this file we'll learn more about them."
   ]
  },
  {
   "cell_type": "markdown",
   "metadata": {},
   "source": [
    "1-As you know, we can use the '+' operator on two or more strings and cocatenate them:"
   ]
  },
  {
   "cell_type": "code",
   "execution_count": 1,
   "metadata": {},
   "outputs": [],
   "source": [
    "lyrics1 = \"Autumn leaves\"\n",
    "lyrics2 = \",drift by my window, \"\n",
    "lyrics3 = \"autumn leaves of red and gold.\""
   ]
  },
  {
   "cell_type": "code",
   "execution_count": 2,
   "metadata": {},
   "outputs": [
    {
     "name": "stdout",
     "output_type": "stream",
     "text": [
      "Autumn leaves,drift by my window, autumn leaves of red and gold.\n"
     ]
    }
   ],
   "source": [
    "lyrics = lyrics1 + lyrics2 + lyrics3\n",
    "print(lyrics)"
   ]
  },
  {
   "cell_type": "markdown",
   "metadata": {},
   "source": [
    "One of the most common built-in functions in python is \"len()\" function. This function can take different data types as an argument, but if a string is passed as an argument, it returns the number of characters in the string or the length of the list:"
   ]
  },
  {
   "cell_type": "code",
   "execution_count": 4,
   "metadata": {},
   "outputs": [],
   "source": [
    "name = \"Robert Downey Jr\""
   ]
  },
  {
   "cell_type": "code",
   "execution_count": 5,
   "metadata": {},
   "outputs": [
    {
     "name": "stdout",
     "output_type": "stream",
     "text": [
      "16\n"
     ]
    }
   ],
   "source": [
    "print(len(name))"
   ]
  },
  {
   "cell_type": "code",
   "execution_count": null,
   "metadata": {},
   "outputs": [],
   "source": []
  },
  {
   "cell_type": "markdown",
   "metadata": {},
   "source": [
    "\"split()\" method, splits a string into a list using a seperator. If the seperator is not spedified, \" \" is considered as the default seperator:"
   ]
  },
  {
   "cell_type": "code",
   "execution_count": 6,
   "metadata": {},
   "outputs": [
    {
     "name": "stdout",
     "output_type": "stream",
     "text": [
      "['Autumn', 'leaves,drift', 'by', 'my', 'windowautumn', 'leaves', 'of', 'red', 'and', 'gold']\n"
     ]
    }
   ],
   "source": [
    "result = lyrics.split()\n",
    "print(result)"
   ]
  },
  {
   "cell_type": "markdown",
   "metadata": {},
   "source": [
    "Let's see an example not using \" \" as the default seperator:"
   ]
  },
  {
   "cell_type": "code",
   "execution_count": 10,
   "metadata": {},
   "outputs": [
    {
     "name": "stdout",
     "output_type": "stream",
     "text": [
      "['Autumn le', 'ves,drift by my window, ', 'utumn le', 'ves of red ', 'nd gold']\n"
     ]
    }
   ],
   "source": [
    "result = lyrics.split(\"a\")\n",
    "print(result)"
   ]
  },
  {
   "cell_type": "markdown",
   "metadata": {},
   "source": [
    "We can use \"upper()\" method to be returned all the characters in upper case:"
   ]
  },
  {
   "cell_type": "code",
   "execution_count": 3,
   "metadata": {},
   "outputs": [
    {
     "name": "stdout",
     "output_type": "stream",
     "text": [
      "EDWARD THOMAS HARDY\n"
     ]
    }
   ],
   "source": [
    "name = \"edward thomas hardy\"\n",
    "upper_name = name.upper()\n",
    "print(upper_name)"
   ]
  },
  {
   "cell_type": "markdown",
   "metadata": {},
   "source": [
    "Similarly, we can use \"lower()\" method to be returend with all characters in lower case:"
   ]
  },
  {
   "cell_type": "code",
   "execution_count": 5,
   "metadata": {},
   "outputs": [
    {
     "name": "stdout",
     "output_type": "stream",
     "text": [
      "christian charles philip bale\n"
     ]
    }
   ],
   "source": [
    "name = \"CHRISTIAN CHARLES PHILIP BALE\"\n",
    "lower_name = name.lower()\n",
    "print(lower_name)"
   ]
  },
  {
   "cell_type": "markdown",
   "metadata": {},
   "source": []
  },
  {
   "cell_type": "code",
   "execution_count": null,
   "metadata": {},
   "outputs": [],
   "source": []
  },
  {
   "cell_type": "code",
   "execution_count": null,
   "metadata": {},
   "outputs": [],
   "source": []
  }
 ],
 "metadata": {
  "kernelspec": {
   "display_name": "Python 3",
   "language": "python",
   "name": "python3"
  },
  "language_info": {
   "codemirror_mode": {
    "name": "ipython",
    "version": 3
   },
   "file_extension": ".py",
   "mimetype": "text/x-python",
   "name": "python",
   "nbconvert_exporter": "python",
   "pygments_lexer": "ipython3",
   "version": "3.8.3"
  }
 },
 "nbformat": 4,
 "nbformat_minor": 4
}
