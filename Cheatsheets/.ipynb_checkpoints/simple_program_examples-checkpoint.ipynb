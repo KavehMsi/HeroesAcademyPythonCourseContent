{
 "cells": [
  {
   "cell_type": "markdown",
   "metadata": {},
   "source": [
    "Let's try writing some simple programs:"
   ]
  },
  {
   "cell_type": "markdown",
   "metadata": {},
   "source": [
    "Write a program to calculate the area of a triangle:"
   ]
  },
  {
   "cell_type": "code",
   "execution_count": null,
   "metadata": {},
   "outputs": [],
   "source": [
    "a = 5\n",
    "b = 7\n",
    "c = 8\n",
    "area = a+b+c\n",
    "print(\"Area of the triangle is:\", area)"
   ]
  },
  {
   "cell_type": "markdown",
   "metadata": {},
   "source": [
    "Write a program to convert Kilometers to Miles:"
   ]
  },
  {
   "cell_type": "code",
   "execution_count": 4,
   "metadata": {},
   "outputs": [
    {
     "name": "stdout",
     "output_type": "stream",
     "text": [
      "Enter distance in km: \n",
      "150\n",
      "The distance is: 93.20565 miles.\n"
     ]
    }
   ],
   "source": [
    "print(\"Enter distance in km: \")\n",
    "km = float(input())\n",
    "conv_fac = 0.621371\n",
    "miles = km * conv_fac\n",
    "print(\"The distance is:\", miles, \"miles.\")"
   ]
  },
  {
   "cell_type": "markdown",
   "metadata": {},
   "source": [
    "Write a program to calculate the sum of numbers from 1 to n:"
   ]
  },
  {
   "cell_type": "code",
   "execution_count": null,
   "metadata": {},
   "outputs": [],
   "source": [
    "n = int(input())\n",
    "number_sum = 0\n",
    "for i in range(1,n+1):\n",
    "    number_sum = number_sum + i\n",
    "print(\"Sum of numbers from 1 to n is:\", number_sum)"
   ]
  },
  {
   "cell_type": "markdown",
   "metadata": {},
   "source": [
    "Can you change the code above to calculate the sum of numbers from m to n?"
   ]
  },
  {
   "cell_type": "code",
   "execution_count": 5,
   "metadata": {},
   "outputs": [
    {
     "name": "stdout",
     "output_type": "stream",
     "text": [
      "4\n",
      "9\n",
      "Sum of numbers from m to n is: 39\n"
     ]
    }
   ],
   "source": [
    "m = int(input())\n",
    "n = int(input())\n",
    "number_sum = 0\n",
    "for i in range(m,n+1):\n",
    "    number_sum = number_sum + i\n",
    "print(\"Sum of numbers from m to n is:\", number_sum)"
   ]
  },
  {
   "cell_type": "markdown",
   "metadata": {},
   "source": [
    "Write a program to count the number of times a sub_string has been repeated in a string:"
   ]
  },
  {
   "cell_type": "code",
   "execution_count": 8,
   "metadata": {},
   "outputs": [
    {
     "name": "stdout",
     "output_type": "stream",
     "text": [
      "sub str London has been repeated  0 times.\n"
     ]
    }
   ],
   "source": [
    "sub_str = \"a\"\n",
    "main_str = \"London bridge is falling down, falling down, my fair lady.\"\n",
    "counter = 0\n",
    "for char in main_str:\n",
    "    if char == sub_str:\n",
    "        counter += 1\n",
    "print(\"sub str\", sub_str, \"has been repeated \", counter, \"times.\")"
   ]
  },
  {
   "cell_type": "code",
   "execution_count": 12,
   "metadata": {},
   "outputs": [
    {
     "name": "stdout",
     "output_type": "stream",
     "text": [
      "sub str ' falling ' has been repeated  2 times.\n"
     ]
    }
   ],
   "source": [
    "sub_str = \"falling\"\n",
    "main_str = \"London bridge is falling down, falling down, my fair lady.\"\n",
    "words = main_str.split()\n",
    "counter = 0\n",
    "for word in words:\n",
    "    if word == sub_str:\n",
    "        counter += 1\n",
    "print(\"sub str '\", sub_str, \"' has been repeated \", counter, \"times.\")"
   ]
  },
  {
   "cell_type": "markdown",
   "metadata": {},
   "source": [
    "Write a program to caculate the average of a list of numbers:"
   ]
  },
  {
   "cell_type": "code",
   "execution_count": 13,
   "metadata": {},
   "outputs": [
    {
     "name": "stdout",
     "output_type": "stream",
     "text": [
      "Number average is: 13.0\n"
     ]
    }
   ],
   "source": [
    "nums = [5,7,14,17,8,9,19,25]\n",
    "numbers_sum = 0\n",
    "for num in nums:\n",
    "    numbers_sum = numbers_sum +  num\n",
    "average = numbers_sum / len(nums)\n",
    "print(\"Number average is:\", average)"
   ]
  },
  {
   "cell_type": "code",
   "execution_count": 14,
   "metadata": {},
   "outputs": [
    {
     "name": "stdout",
     "output_type": "stream",
     "text": [
      "Number average is: 13.0\n"
     ]
    }
   ],
   "source": [
    "#better way to do the above:\n",
    "nums = [5,7,14,17,8,9,19,25]\n",
    "average = sum(nums)/len(nums)\n",
    "print(\"Number average is:\", average)"
   ]
  },
  {
   "cell_type": "markdown",
   "metadata": {},
   "source": [
    "Write a program to count the numbers in a list that are above the list's average:"
   ]
  },
  {
   "cell_type": "code",
   "execution_count": 15,
   "metadata": {},
   "outputs": [
    {
     "name": "stdout",
     "output_type": "stream",
     "text": [
      "13.0\n",
      "4\n"
     ]
    }
   ],
   "source": [
    "nums = [5,7,14,17,8,9,19,25]\n",
    "average = sum(nums)/len(nums)\n",
    "print(average)\n",
    "counter = 0\n",
    "for num in nums:\n",
    "    if num>average:\n",
    "        counter += 1\n",
    "print(counter)"
   ]
  },
  {
   "cell_type": "code",
   "execution_count": null,
   "metadata": {},
   "outputs": [],
   "source": []
  },
  {
   "cell_type": "markdown",
   "metadata": {},
   "source": [
    "Python Program to Check Prime Number<br>\n",
    "Python Program to Print the Fibonacci sequence<br>\n",
    "Python Program to Check Whether a String is Palindrome or Not<br>\n",
    "Python Program to Count The number of occurances of each character in a string.<br>\n"
   ]
  },
  {
   "cell_type": "code",
   "execution_count": 21,
   "metadata": {},
   "outputs": [
    {
     "name": "stdout",
     "output_type": "stream",
     "text": [
      "10000000000000111111 is not prime.\n"
     ]
    }
   ],
   "source": [
    "n = 10000000000000111111\n",
    "flag = True\n",
    "\n",
    "for i in range(2, int((n**(1/2)))+1):\n",
    "    if n%i == 0:\n",
    "        flag = False\n",
    "        break\n",
    "        \n",
    "if flag == True:\n",
    "    print(n, \"is prime.\")\n",
    "else:\n",
    "    print(n, \"is not prime.\")        "
   ]
  },
  {
   "cell_type": "code",
   "execution_count": null,
   "metadata": {},
   "outputs": [],
   "source": []
  }
 ],
 "metadata": {
  "kernelspec": {
   "display_name": "Python 3",
   "language": "python",
   "name": "python3"
  },
  "language_info": {
   "codemirror_mode": {
    "name": "ipython",
    "version": 3
   },
   "file_extension": ".py",
   "mimetype": "text/x-python",
   "name": "python",
   "nbconvert_exporter": "python",
   "pygments_lexer": "ipython3",
   "version": "3.8.3"
  }
 },
 "nbformat": 4,
 "nbformat_minor": 4
}
