{
 "cells": [
  {
   "cell_type": "code",
   "execution_count": 1,
   "metadata": {},
   "outputs": [
    {
     "name": "stdout",
     "output_type": "stream",
     "text": [
      "Great\n"
     ]
    }
   ],
   "source": [
    "salary = 1000\n",
    "expense = 750\n",
    "\n",
    "if salary < expense:\n",
    "    debt = expense - salary\n",
    "    print(\"Warning!\")\n",
    "elif salary > expense:\n",
    "    saving = salary - expense\n",
    "    print(\"Great\")\n",
    "else:\n",
    "    debt = 0\n",
    "    saving = 0\n",
    "    print(\"Not Bad\")"
   ]
  },
  {
   "cell_type": "code",
   "execution_count": 2,
   "metadata": {},
   "outputs": [
    {
     "name": "stdout",
     "output_type": "stream",
     "text": [
      "I had Pizza for lunch\n"
     ]
    }
   ],
   "source": [
    "lunch = \"Pizza\"\n",
    "\n",
    "if lunch == \"Pasta\":\n",
    "    print(\"I had Pasta for lunch\")\n",
    "elif lunch == \"Chicken\":\n",
    "    print(\"I had Chicken for lunch\")\n",
    "elif lunch == \"Pizza\":\n",
    "    print(\"I had Pizza for lunch\")\n",
    "else:\n",
    "    print(\"I didn't have any lunch\")"
   ]
  },
  {
   "cell_type": "code",
   "execution_count": 5,
   "metadata": {},
   "outputs": [
    {
     "name": "stdout",
     "output_type": "stream",
     "text": [
      "The course is about Python!\n"
     ]
    }
   ],
   "source": [
    "greeting = \"Welcome to Python course\"\n",
    "\n",
    "if \"Python\" in greeting:\n",
    "    print(\"The course is about Python!\")\n",
    "elif \"C++\" in greeting:\n",
    "    print(\"The course is about C++!\")\n",
    "else:\n",
    "    print(\"I don't know what the course is about.\")"
   ]
  },
  {
   "cell_type": "code",
   "execution_count": 6,
   "metadata": {},
   "outputs": [
    {
     "name": "stdout",
     "output_type": "stream",
     "text": [
      "I got the complete mark in one of my lessons!\n"
     ]
    }
   ],
   "source": [
    "my_grades = [12.3 , 17 , 19 , 14 , 20]\n",
    "if 20 in my_grades:\n",
    "    print(\"I got the complete mark in one of my lessons!\")\n",
    "else:\n",
    "    print(\"I didn't get any complete mark this term!\")"
   ]
  },
  {
   "cell_type": "code",
   "execution_count": 9,
   "metadata": {},
   "outputs": [
    {
     "name": "stdout",
     "output_type": "stream",
     "text": [
      "I got the complete mark in one of my lessons!\n"
     ]
    }
   ],
   "source": [
    "my_grades = {\"Programming\" : 20 , \"Compiler\" : 14 , \"Computer Architecture\" : 19}\n",
    "\n",
    "if 20 in my_grades.values():\n",
    "    print(\"I got the complete mark in one of my lessons!\")\n",
    "else:\n",
    "    print(\"I didn't get any complete mark this term!\")"
   ]
  },
  {
   "cell_type": "code",
   "execution_count": 13,
   "metadata": {},
   "outputs": [
    {
     "name": "stdout",
     "output_type": "stream",
     "text": [
      "Pizza has the most calories\n"
     ]
    }
   ],
   "source": [
    "pizza_calories = 1000\n",
    "pasta_calories = 600\n",
    "apple_calories = 150\n",
    "\n",
    "if pasta_calories >= apple_calories and pasta_calories >= pizza_calories:\n",
    "    print(\"Pasta has the most calories\")\n",
    "elif pizza_calories >= apple_calories and pizza_calories >= pasta_calories:\n",
    "    print(\"Pizza has the most calories\")\n",
    "else:\n",
    "    print(\"Apple has the most calories\")"
   ]
  },
  {
   "cell_type": "code",
   "execution_count": 14,
   "metadata": {},
   "outputs": [
    {
     "name": "stdout",
     "output_type": "stream",
     "text": [
      "Number2 is equal to or greater than number1\n"
     ]
    }
   ],
   "source": [
    "number1 = 21\n",
    "number2 = 21\n",
    "result = number2 > number1\n",
    "if result or number2 == number1:\n",
    "    print(\"Number2 is equal to or greater than number1\")\n",
    "else:\n",
    "    print(\"Number2 is less than number1\")"
   ]
  },
  {
   "cell_type": "code",
   "execution_count": 12,
   "metadata": {},
   "outputs": [
    {
     "name": "stdout",
     "output_type": "stream",
     "text": [
      "a is c\n"
     ]
    }
   ],
   "source": [
    "a = [1 , 2 , 3]\n",
    "b = [1 , 2 , 3]\n",
    "c = a\n",
    "d = a.copy()\n",
    "\n",
    "if a is b:\n",
    "    print(\"a is b\")\n",
    "elif b is c:\n",
    "    print(\"b is c\")\n",
    "elif a is d:\n",
    "    print(\"a is d\")\n",
    "elif a is c:\n",
    "    print(\"a is c\")\n",
    "else:\n",
    "    print(\"No same Variable\")"
   ]
  },
  {
   "cell_type": "code",
   "execution_count": null,
   "metadata": {},
   "outputs": [],
   "source": []
  },
  {
   "cell_type": "code",
   "execution_count": null,
   "metadata": {},
   "outputs": [],
   "source": []
  }
 ],
 "metadata": {
  "kernelspec": {
   "display_name": "Python 3",
   "language": "python",
   "name": "python3"
  },
  "language_info": {
   "codemirror_mode": {
    "name": "ipython",
    "version": 3
   },
   "file_extension": ".py",
   "mimetype": "text/x-python",
   "name": "python",
   "nbconvert_exporter": "python",
   "pygments_lexer": "ipython3",
   "version": "3.8.3"
  }
 },
 "nbformat": 4,
 "nbformat_minor": 2
}
