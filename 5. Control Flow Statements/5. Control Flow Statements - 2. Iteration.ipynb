{
 "cells": [
  {
   "cell_type": "code",
   "execution_count": 18,
   "metadata": {},
   "outputs": [
    {
     "name": "stdout",
     "output_type": "stream",
     "text": [
      "1\n",
      "4\n",
      "9\n",
      "16\n"
     ]
    }
   ],
   "source": [
    "iterable_object = (1 , 2 , 3 , 4)\n",
    "for i in iterable_object :\n",
    "    print(i ** 2)"
   ]
  },
  {
   "cell_type": "code",
   "execution_count": 19,
   "metadata": {},
   "outputs": [
    {
     "name": "stdout",
     "output_type": "stream",
     "text": [
      "1\n",
      "2\n",
      "3\n",
      "Hey\n",
      "[1, 2, 3]\n"
     ]
    }
   ],
   "source": [
    "mylist = [1 , 2 , 3 , \"Hey\" , [1,2,3]]\n",
    "for element in mylist:\n",
    "    print(element)"
   ]
  },
  {
   "cell_type": "code",
   "execution_count": 21,
   "metadata": {},
   "outputs": [
    {
     "name": "stdout",
     "output_type": "stream",
     "text": [
      "There's no a in the greeting sentence\n"
     ]
    }
   ],
   "source": [
    "greeting = \"Welcome to this course\"\n",
    "is_there_a = False\n",
    "\n",
    "for char in greeting:\n",
    "    if char == \"a\":\n",
    "        is_there_a = True\n",
    "\n",
    "if is_there_a:\n",
    "    print(\"There's a in the greeting sentence\")\n",
    "else:\n",
    "    print(\"There's no a in the greeting sentence\")"
   ]
  },
  {
   "cell_type": "code",
   "execution_count": 22,
   "metadata": {},
   "outputs": [
    {
     "name": "stdout",
     "output_type": "stream",
     "text": [
      "dict_keys(['Name', 'Age', 'Family Name'])\n",
      "My age is:\n",
      "21\n"
     ]
    }
   ],
   "source": [
    "my_dictionary = {\"Name\" : \"Kaveh\" , \"Age\" : 21 , \"Family Name\" : \"Masoumi\"}\n",
    "print(my_dictionary.keys())\n",
    "for i in my_dictionary.keys():\n",
    "    if i == \"Age\":\n",
    "        print(\"My age is:\")\n",
    "        print(my_dictionary[\"Age\"])"
   ]
  },
  {
   "cell_type": "code",
   "execution_count": 28,
   "metadata": {},
   "outputs": [
    {
     "name": "stdout",
     "output_type": "stream",
     "text": [
      "Age\n",
      "21\n",
      "Name\n",
      "Kaveh\n",
      "Family Name\n",
      "Masoumi\n"
     ]
    }
   ],
   "source": [
    "my_list = [(\"Age\" , 21) , (\"Name\" , \"Kaveh\") , (\"Family Name\" , \"Masoumi\")]\n",
    "for (a , b) in my_list:\n",
    "    print(a)\n",
    "    print(b)"
   ]
  },
  {
   "cell_type": "code",
   "execution_count": null,
   "metadata": {},
   "outputs": [],
   "source": []
  }
 ],
 "metadata": {
  "kernelspec": {
   "display_name": "Python 3",
   "language": "python",
   "name": "python3"
  },
  "language_info": {
   "codemirror_mode": {
    "name": "ipython",
    "version": 3
   },
   "file_extension": ".py",
   "mimetype": "text/x-python",
   "name": "python",
   "nbconvert_exporter": "python",
   "pygments_lexer": "ipython3",
   "version": "3.7.0"
  }
 },
 "nbformat": 4,
 "nbformat_minor": 2
}
