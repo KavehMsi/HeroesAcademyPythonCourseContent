{
 "cells": [
  {
   "cell_type": "markdown",
   "metadata": {},
   "source": [
    "# Simple Conditional Statements\n",
    "**Task 1**: A string of letters is given to you,\n",
    "- if there's one or more 'a' letter in it, display \"a found\". otherwise \"a not found\"."
   ]
  },
  {
   "cell_type": "code",
   "execution_count": 3,
   "metadata": {},
   "outputs": [],
   "source": [
    "input_str = input()\n",
    "if 'a' in input_str:\n",
    "    print(\"a found\")\n",
    "else:\n",
    "    print(\"a not found\")"
   ]
  },
  {
   "cell_type": "markdown",
   "metadata": {},
   "source": [
    "**Task 2**: A string of letters is given to you\n",
    "- if there's one or more 'abc' string in it, display \"abc found\". \n",
    "\n",
    "- if there's one or more 'ab' string in it, display \"ab found\".\n",
    "\n",
    "- if none of the conditions above were met, display \"not found\"."
   ]
  },
  {
   "cell_type": "code",
   "execution_count": 4,
   "metadata": {},
   "outputs": [],
   "source": [
    "input_str = input()\n",
    "if 'abc' in input_str:\n",
    "    print(\"abc found\")\n",
    "    \n",
    "if 'ab' in input_str:\n",
    "    print(\"ab found\")\n",
    "else:\n",
    "    print(\"not found\")"
   ]
  },
  {
   "cell_type": "markdown",
   "metadata": {},
   "source": [
    "**Task 3**: A string of letters is given to you\n",
    "- if there's one or more 'abc' string in it, display \"abc found\". \n",
    "\n",
    "- **Otherwise** if there's one or more 'ab' string in it, display \"ab found\".\n",
    "\n",
    "- if none of the conditions above were met, display \"not found\"."
   ]
  },
  {
   "cell_type": "code",
   "execution_count": 5,
   "metadata": {},
   "outputs": [],
   "source": [
    "input_str = input()\n",
    "if 'abc' in input_str:\n",
    "    print(\"abc found\")  \n",
    "elif 'ab' in input_str:\n",
    "    print(\"ab found\")\n",
    "else:\n",
    "    print(\"not found\")"
   ]
  },
  {
   "cell_type": "markdown",
   "metadata": {},
   "source": [
    "Amy is trying to pick the food with the lowest calories for her diet. Help her choose the best option. \n",
    "\n",
    "**Task 4**: Three different numbers, each representing the calorie of every food are given to you. the first input is Pizza, the second one is Pasta and the third one is Lasagna. Display the name of the food with the lowest calorie."
   ]
  },
  {
   "cell_type": "code",
   "execution_count": 6,
   "metadata": {},
   "outputs": [
    {
     "name": "stdout",
     "output_type": "stream",
     "text": [
      "\n"
     ]
    },
    {
     "ename": "ValueError",
     "evalue": "could not convert string to float: ",
     "output_type": "error",
     "traceback": [
      "\u001b[1;31m---------------------------------------------------------------------------\u001b[0m",
      "\u001b[1;31mValueError\u001b[0m                                Traceback (most recent call last)",
      "\u001b[1;32m<ipython-input-6-a8f3e250a7a3>\u001b[0m in \u001b[0;36m<module>\u001b[1;34m()\u001b[0m\n\u001b[0;32m      1\u001b[0m \u001b[1;31m#Task4\u001b[0m\u001b[1;33m\u001b[0m\u001b[1;33m\u001b[0m\u001b[0m\n\u001b[1;32m----> 2\u001b[1;33m \u001b[0mPizza\u001b[0m \u001b[1;33m=\u001b[0m \u001b[0mfloat\u001b[0m\u001b[1;33m(\u001b[0m\u001b[0minput\u001b[0m\u001b[1;33m(\u001b[0m\u001b[1;33m)\u001b[0m\u001b[1;33m)\u001b[0m\u001b[1;33m\u001b[0m\u001b[0m\n\u001b[0m\u001b[0;32m      3\u001b[0m \u001b[0mPasta\u001b[0m \u001b[1;33m=\u001b[0m \u001b[0mfloat\u001b[0m\u001b[1;33m(\u001b[0m\u001b[0minput\u001b[0m\u001b[1;33m(\u001b[0m\u001b[1;33m)\u001b[0m\u001b[1;33m)\u001b[0m\u001b[1;33m\u001b[0m\u001b[0m\n\u001b[0;32m      4\u001b[0m \u001b[0mLasagna\u001b[0m \u001b[1;33m=\u001b[0m \u001b[0mfloat\u001b[0m\u001b[1;33m(\u001b[0m\u001b[0minput\u001b[0m\u001b[1;33m(\u001b[0m\u001b[1;33m)\u001b[0m\u001b[1;33m)\u001b[0m\u001b[1;33m\u001b[0m\u001b[0m\n\u001b[0;32m      5\u001b[0m \u001b[1;31m#Complete the Code\u001b[0m\u001b[1;33m\u001b[0m\u001b[1;33m\u001b[0m\u001b[0m\n",
      "\u001b[1;31mValueError\u001b[0m: could not convert string to float: "
     ]
    }
   ],
   "source": [
    "#Task4\n",
    "Pizza = float(input())\n",
    "Pasta = float(input())\n",
    "Lasagna = float(input())\n",
    "\n",
    "if Pizza > Pasta and Pizza > Lasagna:\n",
    "    print(\"Pizza\")\n",
    "elif Pasta> Pizza and Pasta > Lasagna:\n",
    "    print(\"Pasta\")\n",
    "else:\n",
    "    print(\"Lasagna\")"
   ]
  },
  {
   "cell_type": "markdown",
   "metadata": {},
   "source": [
    "Jake is trying to solve his math problems, help him make sure his answers are correct.\n",
    "\n",
    "**Task 5:** if the operation is done correctly, you must display \"Correct\" otherwise \"Wrong\".\n",
    "\n",
    "\n",
    "**Input Format:** \n",
    "- the first line contains the first operand (integer).\n",
    "- the second line contains the second operand (integer).\n",
    "- the third line contains the result (integer).\n",
    "- the forth line contains the operation, the possible operations are as followed: \" + \" , \" - \" , \" * \" which respectively indicates plus, minus and multiplication."
   ]
  },
  {
   "cell_type": "code",
   "execution_count": 7,
   "metadata": {},
   "outputs": [],
   "source": [
    "a = int(input())\n",
    "b = int(input())\n",
    "c = int(input())\n",
    "\n",
    "operator = input()\n",
    "if operator == \"+\":\n",
    "    if c == a + b:\n",
    "        print(\"Correct\")\n",
    "    else:\n",
    "        print(\"Wrong\")\n",
    "elif operator == \"-\":\n",
    "    if c == a - b:\n",
    "        print(\"Correct\")\n",
    "    else:\n",
    "        print(\"Wrong\")\n",
    "elif operator == '*':\n",
    "    if c == a * b:\n",
    "        print(\"Correct\")\n",
    "    else:\n",
    "        print(\"Wrong\")"
   ]
  },
  {
   "cell_type": "markdown",
   "metadata": {},
   "source": [
    "# Nested Conditional Statements\n",
    "**Task 6:** You are given a sport's name and the scores of two players are also given to you. You must print the sport's name and the winner's name (\"Player One\" or \"Player Two\")\n",
    "- if the sport is \"basketball\", the player with the greatest score wins.\n",
    "- if the sport is \"baseball\", the player with the lowest score wins.\n",
    "- if the scores are equal, the game is a draw.\n",
    "- any other input for the sport will result in an \"unknown\" message.\n",
    "\n",
    "\n",
    "**Input Format:** \n",
    "- the first line contains the Player One's score (float).\n",
    "- the second line contains the Player Two's score (float).\n",
    "- the third line contains the name of the sport.\n",
    "\n",
    "_Please note_ that the sport's name could be given in small or capital letters but you must ensure all of them will be interpetted as the same sport (for example Basketball or basKETball should both be interpretted correctly).\n",
    "\n",
    "_Hint:_ you can use _.lower()_ string method."
   ]
  },
  {
   "cell_type": "code",
   "execution_count": 8,
   "metadata": {},
   "outputs": [],
   "source": [
    "player_one = float(input())\n",
    "player_two = float(input())\n",
    "sport = input().lower()\n",
    "\n",
    "if sport == \"basketball\":\n",
    "    if player_one > player_two:\n",
    "        print(\"Player One\")\n",
    "    else:\n",
    "        print(\"Player Two\")\n",
    "elif sport== \"baseball\":\n",
    "    if player_one < player_two:\n",
    "        print(\"Player One\")\n",
    "    else:\n",
    "        print(\"Player Two\")\n",
    "else:\n",
    "    print(\"Unkown\")"
   ]
  }
 ],
 "metadata": {
  "kernelspec": {
   "display_name": "Python 3",
   "language": "python",
   "name": "python3"
  },
  "language_info": {
   "codemirror_mode": {
    "name": "ipython",
    "version": 3
   },
   "file_extension": ".py",
   "mimetype": "text/x-python",
   "name": "python",
   "nbconvert_exporter": "python",
   "pygments_lexer": "ipython3",
   "version": "3.8.3"
  }
 },
 "nbformat": 4,
 "nbformat_minor": 2
}
