{
 "cells": [
  {
   "cell_type": "markdown",
   "metadata": {},
   "source": [
    "# Methods and Functions - Part 1 Homework\n",
    "### Practicing basics of functions"
   ]
  },
  {
   "cell_type": "markdown",
   "metadata": {},
   "source": [
    "write a function that takes username, age, and phone number and prints them in the following format:"
   ]
  },
  {
   "cell_type": "raw",
   "metadata": {},
   "source": [
    "=================================================\n",
    "Username: James\n",
    "Age: 36\n",
    "Phonenumber: 5552347889\n",
    "================================================="
   ]
  },
  {
   "cell_type": "code",
   "execution_count": 2,
   "metadata": {},
   "outputs": [],
   "source": [
    "def print_info(name, age, phone):\n",
    "    print(\"=================================================\")\n",
    "    print(\"Username:\", name)\n",
    "    print(\"Age:\", age)\n",
    "    print(\"Phonenumber:\", phone)\n",
    "    print(\"=================================================\")"
   ]
  },
  {
   "cell_type": "code",
   "execution_count": 3,
   "metadata": {},
   "outputs": [
    {
     "name": "stdout",
     "output_type": "stream",
     "text": [
      "=================================================\n",
      "Username: Cillian Murphy\n",
      "Age: 18\n",
      "Phonenumber: 555207478\n",
      "=================================================\n"
     ]
    }
   ],
   "source": [
    "print_info(\"Cillian Murphy\", 18, 555207478)"
   ]
  },
  {
   "cell_type": "markdown",
   "metadata": {},
   "source": [
    "Write a function that multpliles all number in a list:"
   ]
  },
  {
   "cell_type": "raw",
   "metadata": {},
   "source": [
    "sample input: [2,3,4,5]\n",
    "sample output: 120"
   ]
  },
  {
   "cell_type": "code",
   "execution_count": 4,
   "metadata": {},
   "outputs": [],
   "source": [
    "def multiply(arr):\n",
    "    result = 1\n",
    "    for i in arr:\n",
    "        result *= i\n",
    "    return result"
   ]
  },
  {
   "cell_type": "code",
   "execution_count": 5,
   "metadata": {},
   "outputs": [
    {
     "name": "stdout",
     "output_type": "stream",
     "text": [
      "120\n"
     ]
    }
   ],
   "source": [
    "print(multiply([2,3,4,5]))"
   ]
  },
  {
   "cell_type": "markdown",
   "metadata": {},
   "source": [
    "Write a function that reverses a string:"
   ]
  },
  {
   "cell_type": "raw",
   "metadata": {},
   "source": [
    "sample input: \"The Dark Night\"\n",
    "sample output: \"thgiN kraD ehT\""
   ]
  },
  {
   "cell_type": "code",
   "execution_count": 10,
   "metadata": {},
   "outputs": [],
   "source": [
    "def reverse(in_str):\n",
    "    reverse_str = \"\"\n",
    "    for i in range(len(in_str)-1, -1,-1):\n",
    "        reverse_str += in_str[i]\n",
    "    return reverse_str"
   ]
  },
  {
   "cell_type": "code",
   "execution_count": 11,
   "metadata": {},
   "outputs": [
    {
     "name": "stdout",
     "output_type": "stream",
     "text": [
      "thgiN kraD ehT\n"
     ]
    }
   ],
   "source": [
    "print(reverse(\"The Dark Night\"))"
   ]
  },
  {
   "cell_type": "markdown",
   "metadata": {},
   "source": [
    "Write a function that accepts a string and prints the number of upper case letters and lower case letters:"
   ]
  },
  {
   "cell_type": "code",
   "execution_count": 39,
   "metadata": {},
   "outputs": [],
   "source": [
    "def count_letters(in_str):\n",
    "    lower_letters = 0\n",
    "    upper_letters = 0 \n",
    "    for char in in_str:\n",
    "        if char.isupper():\n",
    "            upper_letters += 1\n",
    "        else:\n",
    "            lower_letters += 1\n",
    "    print(\"Lower letters count:\", lower_letters)\n",
    "    print(\"Upper letters count:\", upper_letters)"
   ]
  },
  {
   "cell_type": "code",
   "execution_count": 40,
   "metadata": {},
   "outputs": [
    {
     "name": "stdout",
     "output_type": "stream",
     "text": [
      "Lower letters count: 16\n",
      "Upper letters count: 3\n"
     ]
    }
   ],
   "source": [
    "count_letters(\"Robert Cecil Martin\")"
   ]
  },
  {
   "cell_type": "markdown",
   "metadata": {},
   "source": [
    "Complete the function below, to take a list and return a new list with unique elemnts of the first list:"
   ]
  },
  {
   "cell_type": "raw",
   "metadata": {},
   "source": [
    "Sample input: [1,2,3,3,3,3,4,4,5]\n",
    "Sample output: [1,2,3,4,5]"
   ]
  },
  {
   "cell_type": "code",
   "execution_count": 14,
   "metadata": {},
   "outputs": [],
   "source": [
    "def make_unique(nums):\n",
    "    unique_nums = []\n",
    "    for i in nums:\n",
    "        if not i in unique_nums:\n",
    "            unique_nums.append(i)\n",
    "    return unique_nums"
   ]
  },
  {
   "cell_type": "code",
   "execution_count": 15,
   "metadata": {},
   "outputs": [
    {
     "name": "stdout",
     "output_type": "stream",
     "text": [
      "[1, 2, 3, 4, 5]\n"
     ]
    }
   ],
   "source": [
    "print(make_unique([1,2,3,3,3,4,4,5]))"
   ]
  },
  {
   "cell_type": "markdown",
   "metadata": {},
   "source": [
    "Write a function to calculate the factorial of a number"
   ]
  },
  {
   "cell_type": "code",
   "execution_count": 16,
   "metadata": {},
   "outputs": [],
   "source": [
    "def factorial(n):\n",
    "    factorial = 1\n",
    "    for i in range(1, n+1):\n",
    "        factorial = factorial * i\n",
    "    return factorial"
   ]
  },
  {
   "cell_type": "code",
   "execution_count": 17,
   "metadata": {},
   "outputs": [
    {
     "name": "stdout",
     "output_type": "stream",
     "text": [
      "120\n"
     ]
    }
   ],
   "source": [
    "print(factorial(5))"
   ]
  },
  {
   "cell_type": "markdown",
   "metadata": {},
   "source": [
    "Write a function to check wether a number falls in a given range or not."
   ]
  },
  {
   "cell_type": "code",
   "execution_count": 10,
   "metadata": {},
   "outputs": [],
   "source": [
    "def in_range(num, start, end):\n",
    "    for i in range(start, end+1):\n",
    "        if num == i:\n",
    "            return True\n",
    "    return False"
   ]
  },
  {
   "cell_type": "code",
   "execution_count": 19,
   "metadata": {},
   "outputs": [],
   "source": [
    "#Better way to do the above:\n",
    "def in_range(num, start, end):\n",
    "    if num in range(start, end+1):\n",
    "        return True\n",
    "    else:\n",
    "        return False"
   ]
  },
  {
   "cell_type": "code",
   "execution_count": 20,
   "metadata": {},
   "outputs": [
    {
     "name": "stdout",
     "output_type": "stream",
     "text": [
      "True\n",
      "False\n"
     ]
    }
   ],
   "source": [
    "print(in_range(5,4,8))\n",
    "print(in_range(2,3,7))"
   ]
  },
  {
   "cell_type": "markdown",
   "metadata": {},
   "source": [
    "Write a function that checks wether a string is pangram or not(returns True or False)."
   ]
  },
  {
   "cell_type": "code",
   "execution_count": 23,
   "metadata": {},
   "outputs": [],
   "source": [
    "def is_pangram(in_str):\n",
    "    for i in range(len(in_str)//2):\n",
    "        if in_str[i] != in_str[len(in_str)-i-1]:\n",
    "            return False\n",
    "    return True"
   ]
  },
  {
   "cell_type": "code",
   "execution_count": 44,
   "metadata": {},
   "outputs": [],
   "source": [
    "#Better way to do the above:\n",
    "def is_pangram(in_str):\n",
    "    if in_str[0:len(in_str)//2] == in_str[-1:len(in_str)//2: -1]:\n",
    "        return True\n",
    "    return False"
   ]
  },
  {
   "cell_type": "code",
   "execution_count": 45,
   "metadata": {},
   "outputs": [
    {
     "name": "stdout",
     "output_type": "stream",
     "text": [
      "False\n",
      "True\n"
     ]
    }
   ],
   "source": [
    "print(is_pangram(\"lady\"))\n",
    "print(is_pangram(\"abcdedcba\"))"
   ]
  },
  {
   "cell_type": "markdown",
   "metadata": {},
   "source": [
    "Write a function that creates a list of even numbers between 10 and 30."
   ]
  },
  {
   "cell_type": "code",
   "execution_count": 21,
   "metadata": {},
   "outputs": [],
   "source": [
    "def create_list():\n",
    "    numbers = []\n",
    "    for i in range(10,30,2):\n",
    "        numbers.append(i)\n",
    "    return numbers"
   ]
  },
  {
   "cell_type": "code",
   "execution_count": 48,
   "metadata": {},
   "outputs": [],
   "source": [
    "#Better way to the above:\n",
    "def create_list():\n",
    "    numbers = [x for x in range(10,30,2)]\n",
    "    return numbers"
   ]
  },
  {
   "cell_type": "code",
   "execution_count": 49,
   "metadata": {},
   "outputs": [
    {
     "name": "stdout",
     "output_type": "stream",
     "text": [
      "[10, 12, 14, 16, 18, 20, 22, 24, 26, 28]\n"
     ]
    }
   ],
   "source": [
    "print(create_list())"
   ]
  },
  {
   "cell_type": "markdown",
   "metadata": {},
   "source": [
    "Write a function that takes a number as a parameter and checks wether the number is prime or not."
   ]
  },
  {
   "cell_type": "code",
   "execution_count": 30,
   "metadata": {},
   "outputs": [],
   "source": [
    "def is_prime(num):\n",
    "    for i in range(2,num):\n",
    "        if num%i==0:\n",
    "            return False\n",
    "    return True"
   ]
  },
  {
   "cell_type": "code",
   "execution_count": 31,
   "metadata": {},
   "outputs": [
    {
     "name": "stdout",
     "output_type": "stream",
     "text": [
      "False\n",
      "True\n"
     ]
    }
   ],
   "source": [
    "print(is_prime(26))\n",
    "print(is_prime(41))"
   ]
  },
  {
   "cell_type": "markdown",
   "metadata": {},
   "source": [
    "Write a function calculation that accepts two variables as input and caluclates both subtraction and addition of them and returns both values in a single return call."
   ]
  },
  {
   "cell_type": "code",
   "execution_count": 33,
   "metadata": {},
   "outputs": [],
   "source": [
    "def calculation(x, y):\n",
    "    add = x+ y\n",
    "    sub = x-y\n",
    "    #returning a tuple, this method is used \n",
    "    #when we want to return multiple values in a single function call:\n",
    "    return (add,sub)"
   ]
  },
  {
   "cell_type": "code",
   "execution_count": 34,
   "metadata": {},
   "outputs": [
    {
     "name": "stdout",
     "output_type": "stream",
     "text": [
      "(13, -3)\n"
     ]
    }
   ],
   "source": [
    "print(calculation(5,8))"
   ]
  }
 ],
 "metadata": {
  "kernelspec": {
   "display_name": "Python 3",
   "language": "python",
   "name": "python3"
  },
  "language_info": {
   "codemirror_mode": {
    "name": "ipython",
    "version": 3
   },
   "file_extension": ".py",
   "mimetype": "text/x-python",
   "name": "python",
   "nbconvert_exporter": "python",
   "pygments_lexer": "ipython3",
   "version": "3.8.3"
  }
 },
 "nbformat": 4,
 "nbformat_minor": 4
}
