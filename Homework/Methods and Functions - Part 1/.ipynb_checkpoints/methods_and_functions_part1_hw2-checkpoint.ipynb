{
 "cells": [
  {
   "cell_type": "markdown",
   "metadata": {},
   "source": [
    "Some sample functions in python. Read Every Function and try to understand what it does."
   ]
  },
  {
   "cell_type": "code",
   "execution_count": 6,
   "metadata": {},
   "outputs": [],
   "source": [
    "def computepay(hours,rate):\n",
    "    if hours < 40:\n",
    "        pay=hours*rate\n",
    "        print(\"the pay is:\", pay)\n",
    "    else:\n",
    "        pay = 40 * rate + (hours-40)*1.5*rate\n",
    "        print(\"the pay is:\", pay)"
   ]
  },
  {
   "cell_type": "code",
   "execution_count": 7,
   "metadata": {},
   "outputs": [],
   "source": [
    "def distance_from_zero(num):\n",
    "    if type(num)== int or type(num)== float:\n",
    "        return abs(num)\n",
    "    else:\n",
    "        return \"Nope\""
   ]
  },
  {
   "cell_type": "code",
   "execution_count": 8,
   "metadata": {},
   "outputs": [],
   "source": [
    "def single_letter_count(word, letter):\n",
    "    counter = 0\n",
    "    for char in word:\n",
    "        if char == letter:\n",
    "            counter+= 1\n",
    "    return counter"
   ]
  },
  {
   "cell_type": "code",
   "execution_count": 9,
   "metadata": {},
   "outputs": [],
   "source": [
    "def calc_circle_area(r):\n",
    "    return r * r * 3.14"
   ]
  },
  {
   "cell_type": "code",
   "execution_count": 10,
   "metadata": {},
   "outputs": [],
   "source": [
    "def find_max(arr):\n",
    "    max_val = -100000000000\n",
    "    for i in arr:\n",
    "        if max_val > i:\n",
    "            max_val = i\n",
    "    return max_val"
   ]
  }
 ],
 "metadata": {
  "kernelspec": {
   "display_name": "Python 3",
   "language": "python",
   "name": "python3"
  },
  "language_info": {
   "codemirror_mode": {
    "name": "ipython",
    "version": 3
   },
   "file_extension": ".py",
   "mimetype": "text/x-python",
   "name": "python",
   "nbconvert_exporter": "python",
   "pygments_lexer": "ipython3",
   "version": "3.8.3"
  }
 },
 "nbformat": 4,
 "nbformat_minor": 4
}
