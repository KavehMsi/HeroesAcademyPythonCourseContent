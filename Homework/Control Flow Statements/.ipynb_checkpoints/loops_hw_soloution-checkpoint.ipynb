{
 "cells": [
  {
   "cell_type": "markdown",
   "metadata": {},
   "source": [
    "# While Loops\n",
    "**Task 1**: Using a while loop, display numbers in range of 1 to 10 (including 1 and 10)."
   ]
  },
  {
   "cell_type": "code",
   "execution_count": null,
   "metadata": {},
   "outputs": [],
   "source": [
    "i = 1\n",
    "while i <= 10:\n",
    "    print(i, end=\" \")\n",
    "    i += 1"
   ]
  },
  {
   "cell_type": "markdown",
   "metadata": {},
   "source": [
    "**Task 2**: Using a while loop, code two different programs to display even numbers in range of 0 to 10 (including 0 and 10).\n",
    "\n",
    "_Hint:_ you can use _break._"
   ]
  },
  {
   "cell_type": "code",
   "execution_count": null,
   "metadata": {},
   "outputs": [],
   "source": [
    "i = 0\n",
    "while i<=10:\n",
    "    if i %2==0:\n",
    "        print(i)\n",
    "    i += 1"
   ]
  },
  {
   "cell_type": "code",
   "execution_count": null,
   "metadata": {},
   "outputs": [],
   "source": [
    "i = 0\n",
    "while i<=10:\n",
    "    print(i)\n",
    "    i += 2"
   ]
  },
  {
   "cell_type": "markdown",
   "metadata": {},
   "source": [
    "**Simple Iteration**\n",
    "\n",
    "**Task 3:** Using a while loop, display all the elements in the given list in seperate lines.\n",
    "\n",
    "_Hint:_ you can use _len()_ funtion."
   ]
  },
  {
   "cell_type": "code",
   "execution_count": null,
   "metadata": {},
   "outputs": [],
   "source": [
    "my_list = [{\"Name\" : \"Jake\"} , {\"Age\" : \"16\"} , \"I Love Python!!\" , [1,2,3] , (1,2) , 1.1]"
   ]
  },
  {
   "cell_type": "code",
   "execution_count": null,
   "metadata": {},
   "outputs": [],
   "source": [
    "i = 0\n",
    "while i < len(my_list):\n",
    "    print(my_list[i])\n",
    "    i += 1"
   ]
  },
  {
   "cell_type": "markdown",
   "metadata": {},
   "source": [
    "**Run-Time Error**\n",
    "\n",
    "Jake is trying to display his classmates grades in seperate lines. He has made the list and coded his program but there are some errors. Help him debug the code and then fix the code.\n",
    "\n",
    "**Task 4:** Explain the code below and what happens when you run it and fix the bugs.\n",
    "\n",
    "_Hint:_ If you run a program that enters an infinite loop, you can force Python to quit by pressing Ctrl+C. To stop the program in Jupyter Notebook, go to Kernel ->  Restart & Clear Output. "
   ]
  },
  {
   "cell_type": "code",
   "execution_count": null,
   "metadata": {},
   "outputs": [],
   "source": [
    "#Task4\n",
    "Grades = [{\"Name\" : \"Jake\" , \"Grade\" : \"B+\"} , {\"Name\" : \"Leo\" , \"Grade\": \"A-\"} , \n",
    "          {\"Name\": \"Olivia\", \"Grade\" : \"A+\"} , {\"Name\" :\"Ruby\", \"Grade\": \"D+\"}]\n",
    "i = 0\n",
    "while i <= len(Grades):\n",
    "    Grade = Grades[i]\n",
    "    print (\"{} Got the Grade of \".format(Grade['Name']) , end = \"\")\n",
    "    print (\"{}\".format(Grade['Grade']))\n",
    "    \n",
    "# The indices of items in Grades range from 0 to i-1,\n",
    "#but this loop attempts to access the Grades[i]\n",
    "#also, the value of i never changes, so the loop never stops!\n",
    "    "
   ]
  },
  {
   "cell_type": "code",
   "execution_count": null,
   "metadata": {},
   "outputs": [],
   "source": [
    "Grades = [{\"Name\" : \"Jake\" , \"Grade\" : \"B+\"} , {\"Name\" : \"Leo\" , \"Grade\": \"A-\"} , \n",
    "          {\"Name\": \"Olivia\", \"Grade\" : \"A+\"} , {\"Name\" :\"Ruby\", \"Grade\": \"D+\"}]\n",
    "i = 0\n",
    "#Fixed\n",
    "while i < len(Grades):\n",
    "    Grade = Grades[i]\n",
    "    print (\"{} Got the Grade of \".format(Grade['Name']) , end = \"\")\n",
    "    print (\"{}\".format(Grade['Grade']))\n",
    "    #added this line:\n",
    "    i += 1"
   ]
  },
  {
   "cell_type": "markdown",
   "metadata": {},
   "source": [
    "**Task 5:** Using a while loop, code a program in which you can get unlimited integers and for each integer, \n",
    "- if the number is odd, display \"The number is odd!\".\n",
    "- if the number is even, display \"The number is even!\".\n",
    "\n",
    "_Bonus:_ Change the program so that the loop ends when the input is 'e'. "
   ]
  },
  {
   "cell_type": "code",
   "execution_count": null,
   "metadata": {},
   "outputs": [],
   "source": [
    "while True:\n",
    "    n = int(input())\n",
    "    if n %2 == 0:\n",
    "        print(\"The number is even!\")\n",
    "    else:\n",
    "        print(\"The number is odd!\")"
   ]
  },
  {
   "cell_type": "markdown",
   "metadata": {},
   "source": [
    "**Task 6:** Using a while loop, code a program in which you can get unlimited numbers each representing a Celsius degree, and for every number, display the converted degree to Fahrenheit in each line."
   ]
  },
  {
   "cell_type": "code",
   "execution_count": null,
   "metadata": {},
   "outputs": [],
   "source": [
    "#Celsius to Fahrenheit conversion formula is: F = (c*9.5) + 32\n",
    "\n",
    "while True:\n",
    "    c = float(input())\n",
    "    f = (c*9.5) + 32\n",
    "    print(f)"
   ]
  },
  {
   "cell_type": "markdown",
   "metadata": {},
   "source": [
    "# For Loops - Iteration\n",
    "**Task 7:** Print all the squares of the numbers of the given list and all the square root the given tuple in seperate lines."
   ]
  },
  {
   "cell_type": "code",
   "execution_count": null,
   "metadata": {},
   "outputs": [],
   "source": [
    "my_list = [1.2 , 0 , 4 , 22 , -2 , 3]\n",
    "my_tuple = (-3 , 1 , 2 , 3 , 0)"
   ]
  },
  {
   "cell_type": "code",
   "execution_count": null,
   "metadata": {},
   "outputs": [],
   "source": [
    "for item in my_list:\n",
    "    print(item**2)\n",
    "    \n",
    "for item in my_tuple:\n",
    "    print(item**(1/2))"
   ]
  },
  {
   "cell_type": "markdown",
   "metadata": {},
   "source": [
    "**Task 8:** Using a for loop and iteration, determine whether or not there's one or more 'h' in the string below.\n",
    "- if this letter could be found, display \"The letter was found\" otherwise display \"The letter not found\""
   ]
  },
  {
   "cell_type": "code",
   "execution_count": null,
   "metadata": {},
   "outputs": [],
   "source": [
    "Greeting = \"Welcome Welcome to our Python Course!\"\n",
    "\n",
    "found = False\n",
    "for i in Greeting:\n",
    "    if i == 'h':\n",
    "        print(\"The letter was found\")\n",
    "        found = True\n",
    "        \n",
    "if found == False:\n",
    "    print(\"The letter was not found\")"
   ]
  },
  {
   "cell_type": "markdown",
   "metadata": {},
   "source": [
    "Jake has entered his classmate's names and grades to a dictionary in Python (names are the keys and grades are the values). Now he wants to write a program that gets a name and determines whether or not the name has been found in the dictionary. if the name is found, then the grade belonging to the name must be displayed. Otherwise another message appears that declares this name hasnt been entered yet!\n",
    "\n",
    "**Task 9:** Help Jake code this program, using a for loop and iteration,\n",
    "- if the name is not found, then display \"No grade has been registered for this name.\"\n",
    "- if the name is found, then display \"{Entered_name} has got the grade of {Grade}.\"\n",
    "\n",
    "\n",
    "**Input Format:** \n",
    "- the first line contains the entered name (string).\n",
    "\n",
    "_Please note_ that the person's name starts with a capital letter and other letters are small.\n"
   ]
  },
  {
   "cell_type": "code",
   "execution_count": null,
   "metadata": {},
   "outputs": [],
   "source": [
    "grades = {\"Amy\" : \"B\" , \"Brian\" : \"C+\" , \"Charles\" : \"B-\" , \"Celia\" : \"C-\" , \"Jake\" : \"B+\" , \"Justin\" : \"D\" ,\"Olivia\" : \"A\" , \"Riley\" : \"D-\" , \"Sam\" : \"B+\" , \"Tara\" : \"A\" , \"Umar\" : \"C+\" , \"Zoe\" : \"B\"}\n",
    "\n",
    "\n",
    "std = input()\n",
    "name_found = False\n",
    "for name, grade in grades.items():\n",
    "    if name == std:\n",
    "        print(\"{} has got the grade of {}\".format(name, grade))\n",
    "        name_found = True\n",
    "        break\n",
    "        \n",
    "if not name_found:\n",
    "    print(\"No grade has been registered for this name.\")\n",
    "    "
   ]
  },
  {
   "cell_type": "markdown",
   "metadata": {},
   "source": [
    "# Nested Loops\n",
    "**Task 10:** In every tuple in the given list below, there's a character 'f' or 'c' which determines the number in that tupple is whether in Fahrenheit or Celsius respectively. using nested loops, if the temperature is declared in Celsius, convert it to Fahrenheit and display it and if the temperature is in Fahrenheit, convert it to Celsius and display it."
   ]
  },
  {
   "cell_type": "code",
   "execution_count": null,
   "metadata": {},
   "outputs": [],
   "source": [
    "my_list = [('c' , 12) , ('c' , 70) , \n",
    "           ('c' , -1) , ('c' , 13) , \n",
    "           ('f' , 100) , ('f' , 70) , \n",
    "           ('f' , 10) , ('f' , 32)]"
   ]
  },
  {
   "cell_type": "code",
   "execution_count": null,
   "metadata": {},
   "outputs": [],
   "source": [
    "for item in my_list:\n",
    "    if item[0] == 'f':\n",
    "        c = (item[1]-32)/(9.5)\n",
    "        print(c)\n",
    "    else:\n",
    "        f = (item[1]*9.5) + 32\n",
    "        print(f)"
   ]
  },
  {
   "cell_type": "markdown",
   "metadata": {},
   "source": [
    "# For Loops - range\n",
    "**Task 11:** Using range function and a for loop, code two different programs to display odd numbers in range of 0 to 11 (including 0 and 11)."
   ]
  },
  {
   "cell_type": "code",
   "execution_count": null,
   "metadata": {},
   "outputs": [],
   "source": [
    "for i in range(0,12):\n",
    "    if i%2!= 0:\n",
    "        print(i)"
   ]
  },
  {
   "cell_type": "code",
   "execution_count": null,
   "metadata": {},
   "outputs": [],
   "source": [
    "for i in range(1,12,2):\n",
    "    print(i)"
   ]
  },
  {
   "cell_type": "markdown",
   "metadata": {},
   "source": [
    "**Task 12:** Using range function and a for loop, display every character in the given name in seperate lines."
   ]
  },
  {
   "cell_type": "code",
   "execution_count": null,
   "metadata": {},
   "outputs": [],
   "source": [
    "name = \"Jacob\"\n",
    "\n",
    "for letter in name:\n",
    "    print(letter)"
   ]
  },
  {
   "cell_type": "markdown",
   "metadata": {},
   "source": [
    "# Nested Loops\n",
    "**Task 13:** Using range function and nested for loops, display the sequence of the numbers below to n = 10.\n",
    "\n",
    "0\n",
    "\n",
    "1 0\n",
    "\n",
    "2 1 0\n",
    "\n",
    "3 2 1 0\n",
    "\n",
    "4 3 2 1 0\n",
    "\n",
    "5 4 3 2 1 0\n",
    "\n",
    "6 5 4 3 2 1 0\n",
    "\n",
    "in this example we have gone far till n = 6.\n",
    "\n",
    "_Hint:_ To print \"1 0\" in one line, you can also do this \n",
    "\n",
    "print(1 , end = \" \")\n",
    "\n",
    "print(0 , end = \" \")"
   ]
  },
  {
   "cell_type": "code",
   "execution_count": null,
   "metadata": {},
   "outputs": [],
   "source": [
    "n = 10\n",
    "for i in range(n+1):\n",
    "    for j in range(i, -1,-1):\n",
    "        print(j, end=\" \")\n",
    "    print()"
   ]
  },
  {
   "cell_type": "code",
   "execution_count": null,
   "metadata": {},
   "outputs": [],
   "source": []
  }
 ],
 "metadata": {
  "kernelspec": {
   "display_name": "Python 3",
   "language": "python",
   "name": "python3"
  },
  "language_info": {
   "codemirror_mode": {
    "name": "ipython",
    "version": 3
   },
   "file_extension": ".py",
   "mimetype": "text/x-python",
   "name": "python",
   "nbconvert_exporter": "python",
   "pygments_lexer": "ipython3",
   "version": "3.8.3"
  }
 },
 "nbformat": 4,
 "nbformat_minor": 2
}
