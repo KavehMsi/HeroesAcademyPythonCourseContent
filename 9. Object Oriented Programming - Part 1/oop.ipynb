{
 "cells": [
  {
   "cell_type": "code",
   "execution_count": null,
   "metadata": {},
   "outputs": [],
   "source": [
    "class Car:\n",
    "    def __init__(self, name, pos):\n",
    "        self.name = name\n",
    "        self.position = pos\n",
    "        self.speed = 0\n",
    "        \n",
    "    def move(self):\n",
    "        self.position = self.position + self.speed\n",
    "        \n",
    "    def accelrate(self, acceleration):\n",
    "        self.speed += acceleration\n",
    "        \n",
    "    def brake(self, acceleration):\n",
    "        self.speed -= acceleration\n",
    "        \n",
    "    def print_info(self):\n",
    "        print(\"==============\")\n",
    "        print(\"Showing info for car: \", self.name)\n",
    "        print(\"Car's position is: \", self.position)\n",
    "        print(\"Car's speed is: \", self.speed)"
   ]
  },
  {
   "cell_type": "code",
   "execution_count": null,
   "metadata": {},
   "outputs": [],
   "source": [
    "cars = []\n",
    "cars.append(Car(\"Talisman\", 0))\n",
    "cars.append(Car(\"Mustang\", 0))\n",
    "cars.append(Car(\"BMW X3\", 0))"
   ]
  },
  {
   "cell_type": "code",
   "execution_count": null,
   "metadata": {},
   "outputs": [],
   "source": [
    "cars[0].accelrate(4)\n",
    "cars[1].accelrate(7)\n",
    "cars[2].accelrate(5)\n",
    "end = 100\n",
    "finished = False"
   ]
  },
  {
   "cell_type": "code",
   "execution_count": 4,
   "metadata": {},
   "outputs": [
    {
     "name": "stdout",
     "output_type": "stream",
     "text": [
      "Race is finished\n",
      "==============\n",
      "Showing info for car:  Mustang\n",
      "Car's position is:  105\n",
      "Car's speed is:  7\n"
     ]
    }
   ],
   "source": [
    "while not finished:\n",
    "    for car in cars:\n",
    "        car.move()\n",
    "        if car.position >= end:\n",
    "            print(\"Race is finished\")\n",
    "            car.print_info()\n",
    "            finished = True\n",
    "            break"
   ]
  },
  {
   "cell_type": "code",
   "execution_count": null,
   "metadata": {},
   "outputs": [],
   "source": []
  }
 ],
 "metadata": {
  "kernelspec": {
   "display_name": "Python 3",
   "language": "python",
   "name": "python3"
  },
  "language_info": {
   "codemirror_mode": {
    "name": "ipython",
    "version": 3
   },
   "file_extension": ".py",
   "mimetype": "text/x-python",
   "name": "python",
   "nbconvert_exporter": "python",
   "pygments_lexer": "ipython3",
   "version": "3.8.3"
  }
 },
 "nbformat": 4,
 "nbformat_minor": 4
}
